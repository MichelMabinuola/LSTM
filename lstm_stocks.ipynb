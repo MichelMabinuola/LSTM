{
 "cells": [
  {
   "cell_type": "code",
   "execution_count": null,
   "metadata": {},
   "outputs": [],
   "source": [
    "import tensorflow as tf\n",
    "from tensorflow import keras\n",
    "import numpy as np\n",
    "from matplotlib import pyplot as plt"
   ]
  },
  {
   "cell_type": "code",
   "execution_count": null,
   "metadata": {},
   "outputs": [],
   "source": [
    "text=open(\"stocks_txt.txt\").read().lower()\n",
    "len(text)"
   ]
  },
  {
   "cell_type": "code",
   "execution_count": null,
   "metadata": {},
   "outputs": [],
   "source": [
    "# wordcloud creation\n",
    "text=open(\"stocks_txt.txt\", 'r', encoding='utf-8')\n",
    "wordDict = {}\n",
    "while True:\n",
    "    line = text.readline()\n",
    "    if not line:\n",
    "        break\n",
    "    line= line.replace(',',' ')\n",
    "    line = line.replace('.',' ')\n",
    "    line= line.replace(\"'\",' ')\n",
    "    line= line.replace('\"',' ')\n",
    "    line = line.replace(':',' ')\n",
    "    line = line.replace(';', ' ')\n",
    "    line = line.replace('–','  ')\n",
    "    line = line.replace('(','  ')\n",
    "    line = line.replace('“','  ')\n",
    "    line = line.replace('\\n','  ')\n",
    "    line = line.replace(')','  ')\n",
    "    \n",
    "    wordlist = line.split(' ')\n",
    "    \n",
    "    for w in wordlist:\n",
    "        if len(w)>4:\n",
    "            if w in wordDict:\n",
    "                wordDict[w]+=1\n",
    "            else:\n",
    "                wordDict[w]=1\n",
    "    \n",
    "text.close()"
   ]
  },
  {
   "cell_type": "code",
   "execution_count": null,
   "metadata": {},
   "outputs": [],
   "source": [
    "wordDict"
   ]
  },
  {
   "cell_type": "code",
   "execution_count": null,
   "metadata": {},
   "outputs": [],
   "source": [
    "from wordcloud import WordCloud"
   ]
  },
  {
   "cell_type": "code",
   "execution_count": null,
   "metadata": {},
   "outputs": [],
   "source": [
    "wordcloud = WordCloud(background_color='white',\\\n",
    "                      colormap='Dark2',\\\n",
    "                      max_words=500,\n",
    "                      width=500,\\\n",
    "                      height=300,\\\n",
    "                      contour_width=2, contour_color='steelblue',\n",
    "                     collocations=True).generate_from_frequencies(wordDict)"
   ]
  },
  {
   "cell_type": "code",
   "execution_count": null,
   "metadata": {},
   "outputs": [],
   "source": [
    "plt.figure(figsize=(14,6))\n",
    "plt.axis('off')\n",
    "plt.imshow(wordcloud)"
   ]
  },
  {
   "cell_type": "code",
   "execution_count": null,
   "metadata": {},
   "outputs": [],
   "source": [
    "text=open(\"stocks_txt.txt\").read().lower()"
   ]
  },
  {
   "cell_type": "code",
   "execution_count": null,
   "metadata": {},
   "outputs": [],
   "source": [
    "maxlen=70\n",
    "sentences=[]\n",
    "next_chars=[]"
   ]
  },
  {
   "cell_type": "code",
   "execution_count": null,
   "metadata": {},
   "outputs": [],
   "source": [
    "#prepare the dataset of input to output pairs encoded as integers\n",
    "for i in range(len(text)-maxlen):\n",
    "    #selecting from the text the first to 70th letters and appending to sentence array\n",
    "    sentences.append(text[i:i+maxlen])\n",
    "    # selecting each 70th letter and appending them in the next chars array\n",
    "    next_chars.append(text[i+maxlen])"
   ]
  },
  {
   "cell_type": "code",
   "execution_count": null,
   "metadata": {},
   "outputs": [],
   "source": [
    "len(sentences)"
   ]
  },
  {
   "cell_type": "code",
   "execution_count": null,
   "metadata": {},
   "outputs": [],
   "source": [
    "len(next_chars)"
   ]
  },
  {
   "cell_type": "code",
   "execution_count": 18,
   "metadata": {},
   "outputs": [
    {
     "name": "stdout",
     "output_type": "stream",
     "text": [
      "top stocks to watch today.\n",
      "as improving pandemic conditions continue t --> o\n",
      "--------------------\n",
      "op stocks to watch today.\n",
      "as improving pandemic conditions continue to -->  \n",
      "--------------------\n",
      "p stocks to watch today.\n",
      "as improving pandemic conditions continue to  --> s\n",
      "--------------------\n",
      " stocks to watch today.\n",
      "as improving pandemic conditions continue to s --> e\n",
      "--------------------\n",
      "stocks to watch today.\n",
      "as improving pandemic conditions continue to se --> t\n",
      "--------------------\n",
      "tocks to watch today.\n",
      "as improving pandemic conditions continue to set -->  \n",
      "--------------------\n",
      "ocks to watch today.\n",
      "as improving pandemic conditions continue to set  --> t\n",
      "--------------------\n",
      "cks to watch today.\n",
      "as improving pandemic conditions continue to set t --> h\n",
      "--------------------\n",
      "ks to watch today.\n",
      "as improving pandemic conditions continue to set th --> e\n",
      "--------------------\n",
      "s to watch today.\n",
      "as improving pandemic conditions continue to set the -->  \n",
      "--------------------\n",
      " to watch today.\n",
      "as improving pandemic conditions continue to set the  --> r\n",
      "--------------------\n",
      "to watch today.\n",
      "as improving pandemic conditions continue to set the r --> e\n",
      "--------------------\n",
      "o watch today.\n",
      "as improving pandemic conditions continue to set the re --> o\n",
      "--------------------\n",
      " watch today.\n",
      "as improving pandemic conditions continue to set the reo --> p\n",
      "--------------------\n",
      "watch today.\n",
      "as improving pandemic conditions continue to set the reop --> e\n",
      "--------------------\n",
      "atch today.\n",
      "as improving pandemic conditions continue to set the reope --> n\n",
      "--------------------\n",
      "tch today.\n",
      "as improving pandemic conditions continue to set the reopen --> i\n",
      "--------------------\n",
      "ch today.\n",
      "as improving pandemic conditions continue to set the reopeni --> n\n",
      "--------------------\n",
      "h today.\n",
      "as improving pandemic conditions continue to set the reopenin --> g\n",
      "--------------------\n",
      " today.\n",
      "as improving pandemic conditions continue to set the reopening -->  \n",
      "--------------------\n",
      "today.\n",
      "as improving pandemic conditions continue to set the reopening  --> t\n",
      "--------------------\n",
      "oday.\n",
      "as improving pandemic conditions continue to set the reopening t --> r\n",
      "--------------------\n",
      "day.\n",
      "as improving pandemic conditions continue to set the reopening tr --> a\n",
      "--------------------\n",
      "ay.\n",
      "as improving pandemic conditions continue to set the reopening tra --> d\n",
      "--------------------\n",
      "y.\n",
      "as improving pandemic conditions continue to set the reopening trad --> e\n",
      "--------------------\n",
      ".\n",
      "as improving pandemic conditions continue to set the reopening trade -->  \n",
      "--------------------\n",
      "\n",
      "as improving pandemic conditions continue to set the reopening trade  --> a\n",
      "--------------------\n",
      "as improving pandemic conditions continue to set the reopening trade a --> b\n",
      "--------------------\n",
      "s improving pandemic conditions continue to set the reopening trade ab --> l\n",
      "--------------------\n",
      " improving pandemic conditions continue to set the reopening trade abl --> a\n",
      "--------------------\n",
      "improving pandemic conditions continue to set the reopening trade abla --> z\n",
      "--------------------\n",
      "mproving pandemic conditions continue to set the reopening trade ablaz --> e\n",
      "--------------------\n",
      "proving pandemic conditions continue to set the reopening trade ablaze -->  \n",
      "--------------------\n",
      "roving pandemic conditions continue to set the reopening trade ablaze  --> t\n",
      "--------------------\n",
      "oving pandemic conditions continue to set the reopening trade ablaze t --> h\n",
      "--------------------\n",
      "ving pandemic conditions continue to set the reopening trade ablaze th --> i\n",
      "--------------------\n",
      "ing pandemic conditions continue to set the reopening trade ablaze thi --> s\n",
      "--------------------\n",
      "ng pandemic conditions continue to set the reopening trade ablaze this -->  \n",
      "--------------------\n",
      "g pandemic conditions continue to set the reopening trade ablaze this  --> s\n",
      "--------------------\n",
      " pandemic conditions continue to set the reopening trade ablaze this s --> u\n",
      "--------------------\n",
      "pandemic conditions continue to set the reopening trade ablaze this su --> m\n",
      "--------------------\n",
      "andemic conditions continue to set the reopening trade ablaze this sum --> m\n",
      "--------------------\n",
      "ndemic conditions continue to set the reopening trade ablaze this summ --> e\n",
      "--------------------\n",
      "demic conditions continue to set the reopening trade ablaze this summe --> r\n",
      "--------------------\n",
      "emic conditions continue to set the reopening trade ablaze this summer --> ,\n",
      "--------------------\n",
      "mic conditions continue to set the reopening trade ablaze this summer, -->  \n",
      "--------------------\n",
      "ic conditions continue to set the reopening trade ablaze this summer,  --> m\n",
      "--------------------\n",
      "c conditions continue to set the reopening trade ablaze this summer, m --> a\n",
      "--------------------\n",
      " conditions continue to set the reopening trade ablaze this summer, ma --> r\n",
      "--------------------\n",
      "conditions continue to set the reopening trade ablaze this summer, mar --> i\n",
      "--------------------\n",
      "onditions continue to set the reopening trade ablaze this summer, mari --> j\n",
      "--------------------\n",
      "nditions continue to set the reopening trade ablaze this summer, marij --> u\n",
      "--------------------\n",
      "ditions continue to set the reopening trade ablaze this summer, mariju --> a\n",
      "--------------------\n",
      "itions continue to set the reopening trade ablaze this summer, marijua --> n\n",
      "--------------------\n",
      "tions continue to set the reopening trade ablaze this summer, marijuan --> a\n",
      "--------------------\n",
      "ions continue to set the reopening trade ablaze this summer, marijuana -->  \n",
      "--------------------\n",
      "ons continue to set the reopening trade ablaze this summer, marijuana  --> s\n",
      "--------------------\n",
      "ns continue to set the reopening trade ablaze this summer, marijuana s --> t\n",
      "--------------------\n",
      "s continue to set the reopening trade ablaze this summer, marijuana st --> o\n",
      "--------------------\n",
      " continue to set the reopening trade ablaze this summer, marijuana sto --> c\n",
      "--------------------\n",
      "continue to set the reopening trade ablaze this summer, marijuana stoc --> k\n",
      "--------------------\n",
      "ontinue to set the reopening trade ablaze this summer, marijuana stock --> s\n",
      "--------------------\n",
      "ntinue to set the reopening trade ablaze this summer, marijuana stocks -->  \n",
      "--------------------\n",
      "tinue to set the reopening trade ablaze this summer, marijuana stocks  --> c\n",
      "--------------------\n",
      "inue to set the reopening trade ablaze this summer, marijuana stocks c --> o\n",
      "--------------------\n",
      "nue to set the reopening trade ablaze this summer, marijuana stocks co --> u\n",
      "--------------------\n",
      "ue to set the reopening trade ablaze this summer, marijuana stocks cou --> l\n",
      "--------------------\n",
      "e to set the reopening trade ablaze this summer, marijuana stocks coul --> d\n",
      "--------------------\n",
      " to set the reopening trade ablaze this summer, marijuana stocks could -->  \n",
      "--------------------\n",
      "to set the reopening trade ablaze this summer, marijuana stocks could  --> t\n",
      "--------------------\n",
      "o set the reopening trade ablaze this summer, marijuana stocks could t --> a\n",
      "--------------------\n",
      " set the reopening trade ablaze this summer, marijuana stocks could ta --> k\n",
      "--------------------\n",
      "set the reopening trade ablaze this summer, marijuana stocks could tak --> e\n",
      "--------------------\n",
      "et the reopening trade ablaze this summer, marijuana stocks could take -->  \n",
      "--------------------\n",
      "t the reopening trade ablaze this summer, marijuana stocks could take  --> c\n",
      "--------------------\n",
      " the reopening trade ablaze this summer, marijuana stocks could take c --> e\n",
      "--------------------\n",
      "the reopening trade ablaze this summer, marijuana stocks could take ce --> n\n",
      "--------------------\n",
      "he reopening trade ablaze this summer, marijuana stocks could take cen --> t\n",
      "--------------------\n",
      "e reopening trade ablaze this summer, marijuana stocks could take cent --> e\n",
      "--------------------\n",
      " reopening trade ablaze this summer, marijuana stocks could take cente --> r\n",
      "--------------------\n"
     ]
    }
   ],
   "source": [
    "for i in range(80):\n",
    "    print(sentences[i],'-->',next_chars[i])\n",
    "    print('--------------------')"
   ]
  },
  {
   "cell_type": "code",
   "execution_count": 19,
   "metadata": {},
   "outputs": [
    {
     "name": "stdout",
     "output_type": "stream",
     "text": [
      "unique chars: 63\n"
     ]
    }
   ],
   "source": [
    "# converts the texts into letters\n",
    "# turns them into sorted listed format\n",
    "chars=sorted(list(set(text)))\n",
    "print('unique chars:', len(chars))"
   ]
  },
  {
   "cell_type": "code",
   "execution_count": 20,
   "metadata": {},
   "outputs": [
    {
     "name": "stdout",
     "output_type": "stream",
     "text": [
      "['\\n', ' ', '\"', '$', '%', '&', \"'\", '(', ')', '+', ',', '-', '.', '/', '0', '1', '2', '3', '4', '5', '6', '7', '8', '9', ':', ';', '?', '[', ']', 'a', 'b', 'c', 'd', 'e', 'f', 'g', 'h', 'i', 'j', 'k', 'l', 'm', 'n', 'o', 'p', 'q', 'r', 's', 't', 'u', 'v', 'w', 'x', 'y', 'z', '·', 'í', 'ñ', '—', '’', '“', '”', '…'] "
     ]
    }
   ],
   "source": [
    "print(chars, end=' ')"
   ]
  },
  {
   "cell_type": "code",
   "execution_count": 21,
   "metadata": {},
   "outputs": [],
   "source": [
    "# create a new dictionary\n",
    "char_indices={}\n",
    "for char in chars:\n",
    "    char_indices[char]=chars.index(char)\n",
    "    for i, j in char_indices.items():\n",
    "        char_indices[i] = int(j)"
   ]
  },
  {
   "cell_type": "code",
   "execution_count": 22,
   "metadata": {},
   "outputs": [
    {
     "data": {
      "text/plain": [
       "{'\\n': 0,\n",
       " ' ': 1,\n",
       " '\"': 2,\n",
       " '$': 3,\n",
       " '%': 4,\n",
       " '&': 5,\n",
       " \"'\": 6,\n",
       " '(': 7,\n",
       " ')': 8,\n",
       " '+': 9,\n",
       " ',': 10,\n",
       " '-': 11,\n",
       " '.': 12,\n",
       " '/': 13,\n",
       " '0': 14,\n",
       " '1': 15,\n",
       " '2': 16,\n",
       " '3': 17,\n",
       " '4': 18,\n",
       " '5': 19,\n",
       " '6': 20,\n",
       " '7': 21,\n",
       " '8': 22,\n",
       " '9': 23,\n",
       " ':': 24,\n",
       " ';': 25,\n",
       " '?': 26,\n",
       " '[': 27,\n",
       " ']': 28,\n",
       " 'a': 29,\n",
       " 'b': 30,\n",
       " 'c': 31,\n",
       " 'd': 32,\n",
       " 'e': 33,\n",
       " 'f': 34,\n",
       " 'g': 35,\n",
       " 'h': 36,\n",
       " 'i': 37,\n",
       " 'j': 38,\n",
       " 'k': 39,\n",
       " 'l': 40,\n",
       " 'm': 41,\n",
       " 'n': 42,\n",
       " 'o': 43,\n",
       " 'p': 44,\n",
       " 'q': 45,\n",
       " 'r': 46,\n",
       " 's': 47,\n",
       " 't': 48,\n",
       " 'u': 49,\n",
       " 'v': 50,\n",
       " 'w': 51,\n",
       " 'x': 52,\n",
       " 'y': 53,\n",
       " 'z': 54,\n",
       " '·': 55,\n",
       " 'í': 56,\n",
       " 'ñ': 57,\n",
       " '—': 58,\n",
       " '’': 59,\n",
       " '“': 60,\n",
       " '”': 61,\n",
       " '…': 62}"
      ]
     },
     "execution_count": 22,
     "metadata": {},
     "output_type": "execute_result"
    }
   ],
   "source": [
    "char_indices"
   ]
  },
  {
   "cell_type": "code",
   "execution_count": 23,
   "metadata": {},
   "outputs": [],
   "source": [
    "# vectorizing the sentences\n",
    "array_x = (len(sentences), maxlen, len(chars))\n",
    "array_y = (len(sentences), len(chars))\n",
    "#converting the truncated matrixes into boolean value\n",
    "X=np.zeros(array_x, dtype=np.bool)\n",
    "y=np.zeros(array_y, dtype=np.bool)"
   ]
  },
  {
   "cell_type": "code",
   "execution_count": 24,
   "metadata": {},
   "outputs": [],
   "source": [
    "# lets get each letter of the sentences\n",
    "for i, sentence in enumerate(sentences):\n",
    "    for t, char in enumerate(sentence):\n",
    "        X[i, t, char_indices[char]]=1\n",
    "    y[i, char_indices[next_chars[i]]]=1"
   ]
  },
  {
   "cell_type": "code",
   "execution_count": null,
   "metadata": {},
   "outputs": [],
   "source": [
    "model=keras.Sequential([\n",
    "    keras.layers.LSTM(128, input_shape=(maxlen, len(chars))),\n",
    "    keras.layers.Dropout(0.2),\n",
    "    keras.layers.Dense(len(chars), activation='softmax')])"
   ]
  },
  {
   "cell_type": "code",
   "execution_count": null,
   "metadata": {},
   "outputs": [],
   "source": [
    "model.compile(optimizer='rmsprop', loss='categorical_crossentropy')"
   ]
  },
  {
   "cell_type": "code",
   "execution_count": null,
   "metadata": {},
   "outputs": [],
   "source": [
    "def maxchar(preds):\n",
    "    preds=np.asarray(preds).astype('float64')\n",
    "    #getting the max-arguement of the predicted\n",
    "    return np.argmax(preds)"
   ]
  },
  {
   "cell_type": "code",
   "execution_count": null,
   "metadata": {},
   "outputs": [],
   "source": [
    "def sample(preds, index):\n",
    "    preds=np.asarray(preds).astype('float64')\n",
    "    preds=np.log(preds)/index\n",
    "    exp_preds=np.exp(preds)\n",
    "    preds=exp_preds/np.sum(exp_preds)\n",
    "    probas=np.random.multinomial(1,preds)\n",
    "    return np.argmax(probas)"
   ]
  },
  {
   "cell_type": "code",
   "execution_count": null,
   "metadata": {},
   "outputs": [],
   "source": [
    "# select randomly\n",
    "start = np.random.randint(0, len(sentences)-1)"
   ]
  },
  {
   "cell_type": "code",
   "execution_count": null,
   "metadata": {},
   "outputs": [],
   "source": [
    "seed_text = text[start: start+maxlen]\n",
    "print(seed_text)"
   ]
  },
  {
   "cell_type": "code",
   "execution_count": null,
   "metadata": {},
   "outputs": [
    {
     "name": "stdout",
     "output_type": "stream",
     "text": [
      "917/917 [==============================] - 181s 197ms/step - loss: 1.6411\n",
      "at it had bought a stake in la fete du rose, a premium rose wine label\n",
      "t, the sect to the stocks to invest in 2021. is a stock and realth and maring that the company operate stocks to invest in 2021. its stocks to buy industry seal held and has ale stock stocks to invest in 2021. and the procedstors digetrong to invest in 2021. in the parced bething company that market in the past couther to be the dist of the company tast bate stocks al a perlice to for the company insted that of these company ecreven in the firm astall to net company as alitas experest and beat a longed to a be a stock to ton to invest in 2021.\n",
      "\n",
      "by the rese than its stares to be the beto stocks to invest in 2021-best continue to invest yor the stock and a stock to invest in 2021. it is real year of the company can and continue to deesing shares in the firm ealland and the recent of the comp\n",
      "917/917 [==============================] - 203s 221ms/step - loss: 1.5974\n",
      "at it had bought a stake in la fete du rose, a premium rose wine label\n",
      "t, the company also in the past of the stock of and at a listal investors in the firm is a for the market and stocks aroun bectoron and the market in the ectoring it has also the recently tasters. it hast pated and a prodict and apreation of the company pasies in operofing in the market and heveraged in the stocks and share of company as one of the past year. at the company sales sole of the company earned by andout devident on companies and earnings in the enferting in the first searle capary that on the came a fecter of the company second manket in the stock of investors on and the sumper in the stock op in mand companies and searting dimital for the repocting and and the stock to price to preced company in our industry allo wornderst inc. (nyse: sto), the company arso the parters in bea\n",
      "917/917 [==============================] - 174s 190ms/step - loss: 1.5594\n",
      "at it had bought a stake in la fete du rose, a premium rose wine label\n",
      " and market more then has merees. the company salds of the for the market worke and the consider attwere investors and perso in the first is a solicle and the company stock to investors on the sect in and omeran has also inc. (nasdaq: can)) in the firm newing in the stock operations and the company spare to stock to buy seal porting of the chinge is propiden in the furd the sect and wast stocks to invest in 2021. it you have in the stocks to invest in 2021.\n",
      "\n",
      "0. inchading and that in the experformed the market to be the rasid and currentm the market had with the digital for move market of the stock market hode fund since the earning in its for the nawted the payced to in the ont on the bust sere to delie to renest in market and with the company sacks and the stock our det the eningestan sto\n",
      "917/917 [==============================] - 171s 187ms/step - loss: 1.5233\n",
      "at it had bought a stake in la fete du rose, a premium rose wine label\n",
      "t to be the stard the the were socks than stock company on and with the pasicial stock and will year on may it also an stock brinks tho like the rese brings and the company that it the perssers in the firm estate stocks to buy stock to invest your $10000. which as well be more than ge porting to brow the company as a return and thes in the post with the country to be that head prepented by the bese pase stock to by the best it enters of which holdings that in the first ball in the most precered a the secored marketh on ome indest in the company share in the more foc. (nyse: nok) is an on market consalition to consider the prodict the company up provide of the stock has fion for the more then ditical hevedengen, coss aldo continues to be a seve of the stock company woll be a feral adate in \n",
      "917/917 [==============================] - 164s 178ms/step - loss: 1.4906\n",
      "at it had bought a stake in la fete du rose, a premium rose wine label\n",
      " to beting the rese the firm sharth and piidst will lo bull in furmer the company and shares with the company real es at with the company were besidecting sectation in manies, the company has been to industry and bister pridition in the mast parned a, amerating company has a soled for the stock contunter in the past in the past year. with the company with a sonth in the firm asseally bearing and prices and pating and firman most recent year of the stock market now. the stock as a companies in market head in the last year. with the company hes incest investors on the martet in the company with stock market and bractire and sinces that allies the company seal conding market with and incleding company that with the sect of the company in the part of the company markets the its secting to mark\n",
      "917/917 [==============================] - 174s 189ms/step - loss: 1.4626\n",
      "at it had bought a stake in la fete du rose, a premium rose wine label\n",
      " to its and a butlent for industry in the end may in market a stock bath now incoras inc. (nasdaq: bsl), and alsounced market in the past year. to buy be company in the company bosed recurned with neele the that markets are a that the company as a continue to their such a stocks to stock to buy be a to beterales that a stock to bay to the first quarter of 2021 portures experies and a set of the first selpations for the company that company will the moning stock with a plation of the some to new like compared to the best can exceate sere the deal stocks to invest your stocks to its stocks to invest your $1000. beth of the firm now. to the reseal envering sales tar indeater a sales all the sinesting share of the company as the remeating market in the stock market and presed to its undies a c\n",
      "917/917 [==============================] - 185s 202ms/step - loss: 1.4351\n",
      "at it had bought a stake in la fete du rose, a premium rose wine label\n",
      " by the industry in the firm past to investors are net company that in the would be firm canadian and propite stocks to buy stracks with an business that stock in the first quarter of the sect in the stock and sock of the company safe that the company is sootive companed to consided the return and the end of the presiting to top pries of the stard reat necles on the riss of the past year. on the secoro, first tore stock for the company and expentificare to bull ending while reconnise. its stock to can exter and belient action market in a the first has also over the best watch to the financial one of the seco inc. to be a digated companies to companies include inflaction more ther just reporte to the part company was also incover the portfolio stocks on your in the limithing in the industry\n",
      "917/917 [==============================] - 176s 192ms/step - loss: 1.4136\n",
      "at it had bought a stake in la fete du rose, a premium rose wine label\n",
      " diling of the company also trates a the dist year-boted investment for the earnings reseal stocks wite blocks on more than stock fit be consines to to be prodice stock fures to malcion of the company also be a you denger growth on the pance tagem in the sector of these stocks to invest in 2021.\n",
      "\n",
      "bothe finco bestues that weel be a conicion in the company as alliest to mark that market company in the company to stock in the first quarter in the fictor is a could stock to buy and the properting to world to and the company dusing buy secters that the company reouting of the company of the company will and investors that it last lets that incleas to deeven wine like and stock in the stock market to be the past tere pay ot were has been hodelow hovely fer lowent like point products and hold to \n",
      "917/917 [==============================] - 176s 191ms/step - loss: 1.3924\n",
      "at it had bought a stake in la fete du rose, a premium rose wine label\n"
     ]
    },
    {
     "name": "stdout",
     "output_type": "stream",
     "text": [
      " to believe promite the wergh in over 20 mere than 12% now. investors of the sect of 2021. the company bolect the company with a reat income and nom. in the stock in minerow. aperating is a renuration by the company has been the part to feel the first quarter on our list of 10 best wine stocks to invest in 2021. the porfor that the company as a company that was and the year of the company was been to out exciting to the best stocks to invest in 2021. in at the company as a sales to industry improve stocks that the company are to for adverted in march 2017. in shopping and the company and the firm has also be for the company and an start that its firm hew ispers market and comenting the begines to fut the company a solar inc. (nasdaq: nvd) is a comente market stocks to your now the company \n",
      "917/917 [==============================] - 3084s 3s/step - loss: 1.3688\n",
      "at it had bought a stake in la fete du rose, a premium rose wine label\n",
      "t to revenue section in the enditients bate stock to pay the kioul on the sectirily is a solition and for the groption latfer in the find stock market investors to invest in ever as a revenue of chengem entinues to the industry with the recent deast in the liker in 2021, which around the shopponor the company on a revenue of 2021 pressive yearkian, shares hadge predicts and stecks the company that an anter the company that consumer pasing stock in the end of the properting to make the mands a best wells to a be a lind market workes to buy instoral more than investors that shares have relunter in the company saling and dividend of the part trinks with a pride tige stock bo keces the senting now billes fermanded that its digital haspenter and the remailly will aldo ever in the management aco\n",
      "917/917 [==============================] - 194s 212ms/step - loss: 1.3482\n",
      "at it had bought a stake in la fete du rose, a premium rose wine label\n",
      " $10 billion in 2021, and the company secule company would be sunters in the stock market of the bide would sole dive be consider the courtiree to to continue to but constllio. continues to buy to be consider and ecuming on the restordantion and play of considicate to world. in may in the company has heasth and according to the revenue postedial provines and bear predicts of the reisting on the first quarter, deverments and the bettorn to well of the of the stock market industor prices and last menters and wine on the on the company ad stocks that in 2020 prosition in the stock market industry it new lekery conser markets and the company that investors a pearpany canadian accordicle firation also investors an the ene of the company’s content to consider the well sificoin brands and prices \n",
      "917/917 [==============================] - 219s 239ms/step - loss: 1.3307\n",
      "at it had bought a stake in la fete du rose, a premium rose wine label\n",
      " the company that to product is a pering pasies and for the stock market in the firm excitient to invest in ently on the some of the company and the industry be and we providers in the combany that will even and sharent as the moning and and the company in the and pating of the that its end ant allors a per stock has likes and pastent of the firm strates to bused stock in month, an the company as the company which in the farm news furmpersion and the sectaring in the predicts and ginget to be a considering the company well as a market share all that operations the company as an interased with like the company’s continues to a the operater whing income stocks and sharesth and the company and stocks the company in the uperation list year. the company and amerating that its pressitact and dev\n",
      "917/917 [==============================] - 214s 233ms/step - loss: 1.3140\n",
      "at it had bought a stake in la fete du rose, a premium rose wine label\n",
      " the companies and on operations and growth canadian stock in the last teen to id stock that it sup to be investors be say the company as well be from a bet a boing the most part, the company montly the company that and the years. and their sheares management has alpoor properties inc. (nyse: bek), the largent of the price tach to be for the same in the part asta everage sales of treat for the a calination canading to investors reculding the lartaring the company products company that in the farturs of lask you can seep the company is and and the revenue of the companyed trades company now ading the rest a peresting to be a compation of the company has a sole of the leader and come proner to the company was the company spare and the remonics to be a wine the rest market and its on the comp\n",
      "917/917 [==============================] - 218s 238ms/step - loss: 1.2987\n",
      "at it had bought a stake in la fete du rose, a premium rose wine label\n",
      " doin continues the money, belication and the monerman company in and the remail incesting more than exchentimine more than 10 year sharehorgens in the largest at the firm this in include and sard and places and starter have compated to build in earlines and returns consumer increased port the cannabis include places and stock and uglation of retocks and whech on its sector of the company sales on our list of 10 best wine stocks to invest in 2021. it is a solet and some of the company and vosual portution to openificy. it the company is soler and share soming to be a year world stocks in the stock market today, the company sales and sald on its company in the undimanthand on its and the best to its storl consumer produmer and stacts to buy stocks are stock to wound the rest stocks and as i\n",
      "917/917 [==============================] - 227s 247ms/step - loss: 1.2842\n",
      "at it had bought a stake in la fete du rose, a premium rose wine label\n",
      " the services ured and our not to to stocks to beconding to refort in the first quarter of 2021, best conserturity to be the pase in the first quarter ther gined bigles the beat to same a consumer provides in the a them. changene stock is more than 12% in mise of the security be are on the tocrime corponation limest has is and retorl company hight returns of companies in the company that can one of the parsed money held for peringe prices are services is also faction by the net of shopping markets a hearth on a perive searts of more than 12. comperitioned a the frough and sector of the provides of companies in the extitlats a reap enteres in more than 12% and shares and apper a seep and lister the beat consider dis one companies and the company products and soming and considered to over 20\n",
      "328/917 [=========>....................] - ETA: 2:26 - loss: 1.2546"
     ]
    }
   ],
   "source": [
    "for epoch in range(1,30):\n",
    "    model.fit(X,y,batch_size=128, epochs=1)\n",
    "    generated_text=seed_text\n",
    "    print(generated_text)\n",
    "\n",
    "    for i in range(800):\n",
    "        sampled=np.zeros((1,maxlen, len(chars)))\n",
    "        for t,char in enumerate(generated_text):\n",
    "            sampled[0,t,char_indices[char]]=1.\n",
    "\n",
    "        preds=model.predict(sampled, verbose=0)[0]\n",
    "        next_index=sample(preds, 0.5)\n",
    "        next_char=chars[next_index]\n",
    "\n",
    "        generated_text+=next_char\n",
    "        generated_text=generated_text[1:]\n",
    "\n",
    "        print(next_char, end='', flush=True)\n",
    "        \n",
    "    print()"
   ]
  },
  {
   "cell_type": "code",
   "execution_count": null,
   "metadata": {},
   "outputs": [],
   "source": []
  },
  {
   "cell_type": "code",
   "execution_count": null,
   "metadata": {},
   "outputs": [],
   "source": []
  },
  {
   "cell_type": "code",
   "execution_count": null,
   "metadata": {},
   "outputs": [],
   "source": []
  },
  {
   "cell_type": "code",
   "execution_count": null,
   "metadata": {},
   "outputs": [],
   "source": []
  },
  {
   "cell_type": "code",
   "execution_count": null,
   "metadata": {},
   "outputs": [],
   "source": []
  },
  {
   "cell_type": "code",
   "execution_count": null,
   "metadata": {},
   "outputs": [],
   "source": []
  },
  {
   "cell_type": "code",
   "execution_count": null,
   "metadata": {},
   "outputs": [],
   "source": []
  },
  {
   "cell_type": "code",
   "execution_count": null,
   "metadata": {},
   "outputs": [],
   "source": []
  },
  {
   "cell_type": "code",
   "execution_count": 277,
   "metadata": {},
   "outputs": [],
   "source": []
  },
  {
   "cell_type": "code",
   "execution_count": 226,
   "metadata": {},
   "outputs": [],
   "source": [
    "# for i in range(len(t)-ma):\n",
    "#     s.append(t[i:i+ma])\n",
    "#     d.append(t[i+ma])"
   ]
  },
  {
   "cell_type": "code",
   "execution_count": 227,
   "metadata": {},
   "outputs": [
    {
     "data": {
      "text/plain": [
       "[' ', 'n', 'a', 'm', 'e', ' ', 'i', 's', ' ', 'm', 'i', 'k', 'e']"
      ]
     },
     "execution_count": 227,
     "metadata": {},
     "output_type": "execute_result"
    }
   ],
   "source": [
    "# d"
   ]
  },
  {
   "cell_type": "code",
   "execution_count": 228,
   "metadata": {},
   "outputs": [
    {
     "data": {
      "text/plain": [
       "['my', 'y ', ' n', 'na', 'am', 'me', 'e ', ' i', 'is', 's ', ' m', 'mi', 'ik']"
      ]
     },
     "execution_count": 228,
     "metadata": {},
     "output_type": "execute_result"
    }
   ],
   "source": [
    "s"
   ]
  },
  {
   "cell_type": "code",
   "execution_count": 208,
   "metadata": {},
   "outputs": [],
   "source": [
    "# ch=sorted(list(set(t)))"
   ]
  },
  {
   "cell_type": "code",
   "execution_count": 209,
   "metadata": {},
   "outputs": [
    {
     "data": {
      "text/plain": [
       "[' ', 'a', 'e', 'i', 'k', 'm', 'n', 's', 'y']"
      ]
     },
     "execution_count": 209,
     "metadata": {},
     "output_type": "execute_result"
    }
   ],
   "source": [
    "# ch"
   ]
  },
  {
   "cell_type": "code",
   "execution_count": 100,
   "metadata": {},
   "outputs": [],
   "source": [
    "# ch=set(t)"
   ]
  },
  {
   "cell_type": "code",
   "execution_count": 120,
   "metadata": {},
   "outputs": [
    {
     "data": {
      "text/plain": [
       "[' ', 'a', 'e', 'i', 'k', 'm', 'n', 's', 'y']"
      ]
     },
     "execution_count": 120,
     "metadata": {},
     "output_type": "execute_result"
    }
   ],
   "source": [
    "# ch"
   ]
  },
  {
   "cell_type": "code",
   "execution_count": 210,
   "metadata": {},
   "outputs": [],
   "source": [
    "# ch_ind=dict((c, ch.index(c)) for c in ch)"
   ]
  },
  {
   "cell_type": "code",
   "execution_count": 211,
   "metadata": {},
   "outputs": [
    {
     "data": {
      "text/plain": [
       "{' ': 0, 'a': 1, 'e': 2, 'i': 3, 'k': 4, 'm': 5, 'n': 6, 's': 7, 'y': 8}"
      ]
     },
     "execution_count": 211,
     "metadata": {},
     "output_type": "execute_result"
    }
   ],
   "source": [
    "# ch_ind"
   ]
  },
  {
   "cell_type": "code",
   "execution_count": null,
   "metadata": {},
   "outputs": [],
   "source": [
    "# 'my name is mike'"
   ]
  },
  {
   "cell_type": "code",
   "execution_count": null,
   "metadata": {},
   "outputs": [],
   "source": []
  },
  {
   "cell_type": "code",
   "execution_count": 143,
   "metadata": {},
   "outputs": [],
   "source": [
    "# ch_ind = {}"
   ]
  },
  {
   "cell_type": "code",
   "execution_count": 144,
   "metadata": {},
   "outputs": [],
   "source": [
    "for i in ch:\n",
    "    ch_ind[i]=ch.index(i)"
   ]
  },
  {
   "cell_type": "code",
   "execution_count": 145,
   "metadata": {},
   "outputs": [
    {
     "data": {
      "text/plain": [
       "{' ': 0, 'a': 1, 'e': 2, 'i': 3, 'k': 4, 'm': 5, 'n': 6, 's': 7, 'y': 8}"
      ]
     },
     "execution_count": 145,
     "metadata": {},
     "output_type": "execute_result"
    }
   ],
   "source": [
    "ch_ind"
   ]
  },
  {
   "cell_type": "code",
   "execution_count": 212,
   "metadata": {},
   "outputs": [],
   "source": [
    "le =np.zeros((len(s), ma, len(ch)), dtype=np.bool)"
   ]
  },
  {
   "cell_type": "code",
   "execution_count": 213,
   "metadata": {},
   "outputs": [
    {
     "data": {
      "text/plain": [
       "array([[[False, False, False, False, False, False, False, False, False],\n",
       "        [False, False, False, False, False, False, False, False, False]],\n",
       "\n",
       "       [[False, False, False, False, False, False, False, False, False],\n",
       "        [False, False, False, False, False, False, False, False, False]],\n",
       "\n",
       "       [[False, False, False, False, False, False, False, False, False],\n",
       "        [False, False, False, False, False, False, False, False, False]],\n",
       "\n",
       "       [[False, False, False, False, False, False, False, False, False],\n",
       "        [False, False, False, False, False, False, False, False, False]],\n",
       "\n",
       "       [[False, False, False, False, False, False, False, False, False],\n",
       "        [False, False, False, False, False, False, False, False, False]],\n",
       "\n",
       "       [[False, False, False, False, False, False, False, False, False],\n",
       "        [False, False, False, False, False, False, False, False, False]],\n",
       "\n",
       "       [[False, False, False, False, False, False, False, False, False],\n",
       "        [False, False, False, False, False, False, False, False, False]],\n",
       "\n",
       "       [[False, False, False, False, False, False, False, False, False],\n",
       "        [False, False, False, False, False, False, False, False, False]],\n",
       "\n",
       "       [[False, False, False, False, False, False, False, False, False],\n",
       "        [False, False, False, False, False, False, False, False, False]],\n",
       "\n",
       "       [[False, False, False, False, False, False, False, False, False],\n",
       "        [False, False, False, False, False, False, False, False, False]],\n",
       "\n",
       "       [[False, False, False, False, False, False, False, False, False],\n",
       "        [False, False, False, False, False, False, False, False, False]],\n",
       "\n",
       "       [[False, False, False, False, False, False, False, False, False],\n",
       "        [False, False, False, False, False, False, False, False, False]],\n",
       "\n",
       "       [[False, False, False, False, False, False, False, False, False],\n",
       "        [False, False, False, False, False, False, False, False, False]]])"
      ]
     },
     "execution_count": 213,
     "metadata": {},
     "output_type": "execute_result"
    }
   ],
   "source": [
    "le"
   ]
  },
  {
   "cell_type": "code",
   "execution_count": 214,
   "metadata": {},
   "outputs": [],
   "source": [
    "e = np.zeros((len(s), ma), dtype=np.bool)"
   ]
  },
  {
   "cell_type": "code",
   "execution_count": 215,
   "metadata": {},
   "outputs": [
    {
     "data": {
      "text/plain": [
       "array([[False, False],\n",
       "       [False, False],\n",
       "       [False, False],\n",
       "       [False, False],\n",
       "       [False, False],\n",
       "       [False, False],\n",
       "       [False, False],\n",
       "       [False, False],\n",
       "       [False, False],\n",
       "       [False, False],\n",
       "       [False, False],\n",
       "       [False, False],\n",
       "       [False, False]])"
      ]
     },
     "execution_count": 215,
     "metadata": {},
     "output_type": "execute_result"
    }
   ],
   "source": [
    "e"
   ]
  },
  {
   "cell_type": "code",
   "execution_count": 156,
   "metadata": {},
   "outputs": [],
   "source": [
    "f = (2,2,3)"
   ]
  },
  {
   "cell_type": "code",
   "execution_count": 158,
   "metadata": {},
   "outputs": [
    {
     "data": {
      "text/plain": [
       "array([[[False, False, False],\n",
       "        [False, False, False]],\n",
       "\n",
       "       [[False, False, False],\n",
       "        [False, False, False]]])"
      ]
     },
     "execution_count": 158,
     "metadata": {},
     "output_type": "execute_result"
    }
   ],
   "source": [
    "np.zeros(f, dtype=np.bool)"
   ]
  },
  {
   "cell_type": "code",
   "execution_count": 163,
   "metadata": {},
   "outputs": [],
   "source": [
    "j = [[[1,2], [2,3], [1,3],[4,1]]]"
   ]
  },
  {
   "cell_type": "code",
   "execution_count": 166,
   "metadata": {},
   "outputs": [
    {
     "name": "stdout",
     "output_type": "stream",
     "text": [
      "[[1, 2], [2, 3], [1, 3], [4, 1]]\n"
     ]
    }
   ],
   "source": [
    "for i in j:\n",
    "    print(i)"
   ]
  },
  {
   "cell_type": "code",
   "execution_count": 238,
   "metadata": {},
   "outputs": [
    {
     "ename": "TypeError",
     "evalue": "unhashable type: 'list'",
     "output_type": "error",
     "traceback": [
      "\u001b[0;31m---------------------------------------------------------------------------\u001b[0m",
      "\u001b[0;31mTypeError\u001b[0m                                 Traceback (most recent call last)",
      "\u001b[0;32m<ipython-input-238-bfc9f13f1625>\u001b[0m in \u001b[0;36m<module>\u001b[0;34m\u001b[0m\n\u001b[1;32m      1\u001b[0m \u001b[0;32mfor\u001b[0m \u001b[0mi\u001b[0m\u001b[0;34m,\u001b[0m \u001b[0me\u001b[0m \u001b[0;32min\u001b[0m \u001b[0menumerate\u001b[0m\u001b[0;34m(\u001b[0m\u001b[0ms\u001b[0m\u001b[0;34m)\u001b[0m\u001b[0;34m:\u001b[0m\u001b[0;34m\u001b[0m\u001b[0;34m\u001b[0m\u001b[0m\n\u001b[1;32m      2\u001b[0m     \u001b[0;32mfor\u001b[0m \u001b[0mt\u001b[0m\u001b[0;34m,\u001b[0m \u001b[0mc\u001b[0m \u001b[0;32min\u001b[0m \u001b[0menumerate\u001b[0m\u001b[0;34m(\u001b[0m\u001b[0me\u001b[0m\u001b[0;34m)\u001b[0m\u001b[0;34m:\u001b[0m\u001b[0;34m\u001b[0m\u001b[0;34m\u001b[0m\u001b[0m\n\u001b[0;32m----> 3\u001b[0;31m          \u001b[0mle\u001b[0m\u001b[0;34m[\u001b[0m\u001b[0mi\u001b[0m\u001b[0;34m,\u001b[0m \u001b[0mt\u001b[0m\u001b[0;34m,\u001b[0m \u001b[0mch_ind\u001b[0m\u001b[0;34m[\u001b[0m\u001b[0mch\u001b[0m\u001b[0;34m]\u001b[0m\u001b[0;34m]\u001b[0m\u001b[0;34m=\u001b[0m\u001b[0;36m1\u001b[0m\u001b[0;34m\u001b[0m\u001b[0;34m\u001b[0m\u001b[0m\n\u001b[0m",
      "\u001b[0;31mTypeError\u001b[0m: unhashable type: 'list'"
     ]
    }
   ],
   "source": [
    "for i, e in enumerate(s):\n",
    "    for t, c in enumerate(e):\n",
    "         le[i, t, ch_ind[ch]]=1"
   ]
  },
  {
   "cell_type": "code",
   "execution_count": null,
   "metadata": {},
   "outputs": [],
   "source": []
  },
  {
   "cell_type": "code",
   "execution_count": 236,
   "metadata": {},
   "outputs": [],
   "source": [
    "q = ['ghee','gje2','gh']"
   ]
  },
  {
   "cell_type": "code",
   "execution_count": 237,
   "metadata": {},
   "outputs": [
    {
     "name": "stdout",
     "output_type": "stream",
     "text": [
      "0\n",
      "1\n",
      "2\n"
     ]
    }
   ],
   "source": [
    "for i, j in enumerate(q):\n",
    "    print(i)\n",
    "        "
   ]
  },
  {
   "cell_type": "code",
   "execution_count": 273,
   "metadata": {},
   "outputs": [],
   "source": [
    "str_i = 5"
   ]
  },
  {
   "cell_type": "code",
   "execution_count": 280,
   "metadata": {},
   "outputs": [
    {
     "data": {
      "text/plain": [
       "'me'"
      ]
     },
     "execution_count": 280,
     "metadata": {},
     "output_type": "execute_result"
    }
   ],
   "source": [
    "t[str_i: str_i+ma]"
   ]
  },
  {
   "cell_type": "code",
   "execution_count": null,
   "metadata": {},
   "outputs": [],
   "source": []
  },
  {
   "cell_type": "code",
   "execution_count": null,
   "metadata": {},
   "outputs": [],
   "source": []
  },
  {
   "cell_type": "code",
   "execution_count": null,
   "metadata": {},
   "outputs": [],
   "source": []
  },
  {
   "cell_type": "code",
   "execution_count": null,
   "metadata": {},
   "outputs": [],
   "source": []
  }
 ],
 "metadata": {
  "kernelspec": {
   "display_name": "Python 3",
   "language": "python",
   "name": "python3"
  },
  "language_info": {
   "codemirror_mode": {
    "name": "ipython",
    "version": 3
   },
   "file_extension": ".py",
   "mimetype": "text/x-python",
   "name": "python",
   "nbconvert_exporter": "python",
   "pygments_lexer": "ipython3",
   "version": "3.7.4"
  }
 },
 "nbformat": 4,
 "nbformat_minor": 2
}
